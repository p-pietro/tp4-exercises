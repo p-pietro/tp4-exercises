{
 "cells": [
  {
   "cell_type": "markdown",
   "metadata": {},
   "source": [
    "\n",
    "<a name=\"T_A01ADD66\"></a>\n",
    "\n",
    "# <span style=\"color:rgb(213,80,0)\">Single driven\\-dissipative site</span>\n",
    "\n",
    "<img src=\"data:image/png;base64,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\" width=\"166\" alt=\"image_0.png\">\n",
    "\n",
    "<a name=\"beginToc\"></a>\n",
    "\n",
    "## Table of Contents\n",
    "[Theory](#H_844B56A5)\n",
    "\n",
    "&emsp;[Hamiltonian](#H_4179F7B1)\n",
    "\n",
    "&emsp;[Dissipative dynamics](#H_F495FC69)\n",
    "\n",
    "&emsp;[Vectorization](#H_6FBEABAE)\n",
    "\n",
    "[Numerics](#H_ACC002B3)\n",
    "\n",
    "&emsp;[Settings](#H_4726B353)\n",
    "\n",
    "&emsp;[Construction of vectorized Lindbladian](#H_D2048DEB)\n",
    "\n",
    "&emsp;&emsp;[Exercise \\#1](#H_9231BF9B)\n",
    "\n",
    "&emsp;[Steady\\-state density matrix](#H_7E3B46B3)\n",
    "\n",
    "&emsp;&emsp;[Exercise \\#2](#H_42359288)\n",
    "\n",
    "&emsp;[Steady\\-state expectation values](#H_BDBB2DED)\n",
    "\n",
    "&emsp;&emsp;[Exercise \\#3](#H_FFA598B3)\n",
    "\n",
    "&emsp;[Full Lindbladian spectrum](#H_F8A812C8)\n",
    "\n",
    "&emsp;[Time evolution](#H_521252EF)\n",
    "\n",
    "&emsp;&emsp;[Exercise \\#4](#H_2315E99C)\n",
    "\n",
    "[DIY](#H_AAB4A4C6)\n",
    "\n",
    "<a name=\"endToc\"></a>\n",
    "<a name=\"H_844B56A5\"></a>\n",
    "\n",
    "## Theory\n",
    "\n",
    "Let's consider a single\\-mode, driven\\-dissipative bosonic/fermionic site.\n",
    "\n",
    "<a name=\"H_4179F7B1\"></a>\n",
    "\n",
    "### Hamiltonian\n",
    "\n",
    "For the bosonic case, you can think about a harmonic oscillator or a photonic cavity, while for the fermionic case you can think about an energy level of a spinless fermion.\n",
    "\n",
    "\n",
    "In both cases, the Hamiltonian is\n",
    "\n",
    "\n",
    "$$H=\\omega_0 a^{\\dagger} a,$$\n",
    "\n",
    "where $a$ and $a^{\\dagger}$ destroy and create, respectively, a boson or a fermion. They obey the commutation relations\n",
    "\n",
    "\n",
    "$$[a,a^{\\dagger} ]_{\\pi } =aa^{\\dagger} +\\pi a^{\\dagger} a=1,$$\n",
    "\n",
    "where $\\pi =\\pm$ and the upper (lower) sign applies for fermions (bosons).\n",
    "\n",
    "\n",
    "Their action on Fock states is\n",
    "\n",
    "\n",
    "$$\\begin{array}{l} a|n\\rangle =\\sqrt{n}|n-1\\rangle \\newline a^{\\dagger} |n\\rangle =\\sqrt{n+1}|n+1\\rangle  \\end{array}$$\n",
    "\n",
    "with the additional condition\n",
    "\n",
    "\n",
    "$$a|0\\rangle =a^{\\dagger} |1\\rangle =0$$\n",
    "\n",
    "for fermions (which essentially restricts the Fock states to $\\left|0\\rangle \\right.$ and $\\left|1\\rangle \\right.$ only).\n",
    "\n",
    "\n",
    "In both cases, $N|n\\rangle =a^{\\dagger} a|n\\rangle =n|n\\rangle$ .\n",
    "\n",
    "<a name=\"H_F495FC69\"></a>\n",
    "\n",
    "### Dissipative dynamics\n",
    "\n",
    "Let's also assume that the dissipative dynamics only involves single\\-particle processes, i.e. a process with jump operator $a$ describing single\\-particle losses at a rate $\\Gamma_1$ and a process with jump operator $a^{\\dagger}$ describing single\\-particle (incoherent) pumping at a rate $P_1$ (note: the subscript is just a reminder that these are single\\-particle rates).\n",
    "\n",
    "\n",
    "In other words, the dissipator is\n",
    "\n",
    "\n",
    "$${\\mathcal{L}}_D \\rho =\\Gamma_1 \\Big(a\\rho a^{\\dagger} -\\frac{1}{2}\\big\\lbrace a^{\\dagger} a,\\rho \\big\\rbrace \\Big)+P_1 \\Big(a^{\\dagger} \\rho a-\\frac{1}{2}\\big\\lbrace aa^{\\dagger} ,\\rho \\big\\rbrace \\Big)$$\n",
    "\n",
    "and the total dynamics is governed by the Lindblad equation\n",
    "\n",
    "\n",
    "$$\\partial_t \\rho =\\mathcal{L}\\rho =-i\\big\\lbrack H,\\rho \\big\\rbrack +{\\mathcal{L}}_D \\rho .$$\n",
    "<a name=\"H_6FBEABAE\"></a>\n",
    "\n",
    "### Vectorization\n",
    "\n",
    "We vectorize the Lindblad equation by employing the formulation of quantum mechanics in Liouville space.\n",
    "\n",
    "\n",
    "This involves purifying the identity operator $I$ into a *left vacuum* vector $|I\\rangle$ :\n",
    "\n",
    "\n",
    "$$I=\\sum_n |n\\rangle \\langle n|~~\\Longrightarrow ~~~~|I\\rangle =\\sum_n |n\\rangle \\otimes |\\tilde{n} \\rangle$$\n",
    "\n",
    "which satisfies $\\langle I|\\mathcal{L}=0$ and is then used to vectorize operators:\n",
    "\n",
    "\n",
    "$$\\mathcal{O}~~\\Longrightarrow ~~|\\mathcal{O}\\rangle =\\mathcal{O}|I\\rangle .$$\n",
    "\n",
    "We can then vectorize the Lindblad equation by applying it to $|I\\rangle$ :\n",
    "\n",
    "\n",
    "$$\\partial_t \\rho =\\mathcal{L}\\rho ~~~~\\Longrightarrow ~~~~\\partial_t |\\rho \\rangle =\\mathcal{L}|\\rho \\rangle$$\n",
    "\n",
    "where\n",
    "\n",
    "\n",
    "$$\\mathcal{L}|\\rho \\rangle =-i\\big(H-\\tilde{H} \\big)|\\rho \\rangle +\\frac{\\Gamma_1 }{2}\\big(2\\sigma a\\tilde{a} -a^{\\dagger} a-{\\tilde{a} }^{\\dagger} \\tilde{a} \\big)|\\rho \\rangle +\\frac{P_1 }{2}\\big(2\\sigma a^{\\dagger} {\\tilde{a} }^{\\dagger} -aa^{\\dagger} -\\tilde{a} {\\tilde{a} }^{\\dagger} \\big)|\\rho \\rangle$$\n",
    "\n",
    "and $\\sigma =1$ for bosons and $\\sigma =-i$ for fermions.\n",
    "\n",
    "\n",
    "Rewritten as much as possible in terms of number operators:\n",
    "\n",
    "\n",
    "$$\\mathcal{L}=-i\\omega_0 \\big(N-\\tilde{N} \\big)-\\frac{\\Gamma_1 +\\pi P_1 }{2}\\big(N+\\tilde{N} \\big)+\\sigma \\big(\\Gamma_1 a\\tilde{a} +P_1 a^{\\dagger} {\\tilde{a} }^{\\dagger} \\big)-P_1 .$$\n",
    "\n",
    "Here, the tilded operators act on the tilded Hilbert space only. For a general system operator $A$ , the connection to its tilde\\-version is obtained by\n",
    "\n",
    "\n",
    "$$A|I\\rangle =\\sigma_A {\\tilde{A} }^{\\dagger} |I\\rangle ,$$\n",
    "\n",
    "where $\\sigma_A =1$ for $A$ bosonic and $\\sigma_A =-i$ for $A$ fermionic.\n",
    "\n",
    "\n",
    "If $A$ is bosonic, an explicit form for $\\tilde{A}$ is $\\tilde{A} =I\\otimes A^*$ , directly mapping the above expression for the vectorized Lindblad equation to the Choi\\-Jamiołkowski isomorphism.\n",
    "\n",
    "\n",
    "**Note:**\n",
    "\n",
    "\n",
    "Since fermions anticommute, the fermionic Fock states for a single site in Liouville space are defined with the following phase factor:\n",
    "\n",
    "\n",
    "$$|1,\\tilde{0} \\rangle =\\sqrt{\\sigma }a^{\\dagger} |0,\\tilde{0} \\rangle ,~~~~|0,\\tilde{1} \\rangle =\\sqrt{\\sigma }{\\tilde{a} }^{\\dagger} |0,\\tilde{0} \\rangle ,~~~~|1,\\tilde{1} \\rangle =\\sigma a^{\\dagger} {\\tilde{a} }^{\\dagger} |0,\\tilde{0} \\rangle .$$\n",
    "\n",
    "Since we are working with a single site we can employ the more convenient convention $\\sigma =1$ (which is the one used in the code below). For multiple fermionic sites, it is still more convenient to employ the original $\\sigma =-i$ instead.\n",
    "\n",
    "<a name=\"H_ACC002B3\"></a>\n",
    "\n",
    "## Numerics\n",
    "\n",
    "Let's now simulate this model numerically.\n"
   ]
  },
  {
   "cell_type": "code",
   "execution_count": 1,
   "metadata": {},
   "outputs": [],
   "source": [
    "addpath('C:\\Users\\Pietro\\Documents\\tp4-exercises')"
   ]
  },
  {
   "cell_type": "markdown",
   "metadata": {},
   "source": [
    "<a name=\"H_4726B353\"></a>\n",
    "\n",
    "### Settings\n",
    "\n",
    "We start by setting the parameters for the model.\n",
    "\n",
    "\n",
    "Let's first choose whether we are simulating a fermionic or bosonic model:\n"
   ]
  },
  {
   "cell_type": "code",
   "execution_count": 2,
   "metadata": {},
   "outputs": [],
   "source": [
    "isBosonic = true;"
   ]
  },
  {
   "cell_type": "markdown",
   "metadata": {},
   "source": [
    "\n",
    "and define the phase factor $\\sigma$ and the commutator sign $\\pi$ :\n"
   ]
  },
  {
   "cell_type": "code",
   "execution_count": 3,
   "metadata": {},
   "outputs": [],
   "source": [
    "if isBosonic\n",
    "    s = +1;  % sigma\n",
    "    p = +1;  % pi\n",
    "else\n",
    "    s = +1;  % with -1i, code edits are necessary!\n",
    "    p = -1;\n",
    "end"
   ]
  },
  {
   "cell_type": "markdown",
   "metadata": {},
   "source": [
    "\n",
    "You can prove (try to use the equation of motion technique!) that, for the model we have, you can always write the pump/loss rates as\n",
    "\n",
    "\n",
    "$$\\Gamma_1 =\\Gamma^{{\\mathrm{e}\\mathrm{f}\\mathrm{f}}} \\big(1+\\pi N_{\\infty } \\big),~~~~P_1 =\\Gamma^{{\\mathrm{e}\\mathrm{f}\\mathrm{f}}} N_{\\infty } ,$$\n",
    "\n",
    "where\n",
    "\n",
    "\n",
    "$$N_{\\infty } =\\frac{P_1 }{\\Gamma_1 -\\pi P_1 }$$\n",
    "\n",
    "is the average steady\\-state occupation and\n",
    "\n",
    "\n",
    "$$\\Gamma^{{\\mathrm{e}\\mathrm{f}\\mathrm{f}}} =\\Gamma_1 -\\pi P_1$$\n",
    "\n",
    "is the effective (or semiclassical) dissipation rate.\n",
    "\n",
    "\n",
    "In this example, we simulate a system with an average steady\\-state occupation equal to 0.3 for the fermionic case, and 5 for the bosonic case:\n"
   ]
  },
  {
   "cell_type": "code",
   "execution_count": 24,
   "metadata": {},
   "outputs": [],
   "source": [
    "Nss = 0.3*(1-isBosonic) + 5*isBosonic;\n",
    "w0  = 1.0;              % omega_0\n",
    "G1  = 0.1*(1 + p*Nss);  % Gamma_1\n",
    "P1  = 0.1*(      Nss);  % P_1"
   ]
  },
  {
   "cell_type": "markdown",
   "metadata": {},
   "source": [
    "\n",
    "In addition, while for fermions there are only 2 possible states ( $|0\\rangle$ and $|1\\rangle$ ), for bosons we have to set a cutoff (maximum number of states) on the Hilbert space, for example 10 times the steady\\-state occupation:\n"
   ]
  },
  {
   "cell_type": "code",
   "execution_count": 5,
   "metadata": {},
   "outputs": [],
   "source": [
    "Nc = 2*(1-isBosonic) + 10*Nss*isBosonic;"
   ]
  },
  {
   "cell_type": "markdown",
   "metadata": {},
   "source": [
    "<a name=\"H_D2048DEB\"></a>\n",
    "\n",
    "### Construction of vectorized Lindbladian\n",
    "\n",
    "We now build the vectorized Lindbladian by first defining the regular and tilde fields:\n"
   ]
  },
  {
   "cell_type": "code",
   "execution_count": 6,
   "metadata": {},
   "outputs": [
    {
     "name": "stdout",
     "output_type": "stream",
     "text": [
      "  [info] Fields construction in 00:00:00.030\n"
     ]
    }
   ],
   "source": [
    "startTime = stopWatch();\n",
    "id0   = speye(Nc,Nc);                       % I\n",
    "a0    = spdiags(sqrt(0:(Nc-1)).',1,Nc,Nc);  % a\n",
    "a     = kron(a0,id0);                       % a  ⊗  I\n",
    "at    = kron(id0,a0);                       % I  ⊗  a   (tilde-a)\n",
    "id    = kron(id0,id0);                      % I  ⊗  I\n",
    "aDag  = a';                                 % a† ⊗  I\n",
    "atDag = at';                                % I  ⊗  a†  (tilde-a†)\n",
    "N     = aDag*a;                             % N  ⊗  I\n",
    "Nt    = atDag*at;                           % I  ⊗  N   (tilde-N)\n",
    "stopWatch(startTime,'  [info] Fields construction in ');"
   ]
  },
  {
   "cell_type": "markdown",
   "metadata": {},
   "source": [
    "\n",
    "At this point, we just put everything together:\n"
   ]
  },
  {
   "cell_type": "code",
   "execution_count": 89,
   "metadata": {},
   "outputs": [
    {
     "name": "stdout",
     "output_type": "stream",
     "text": [
      "  [info] Lindbladian construction in 00:00:00.004\n"
     ]
    }
   ],
   "source": [
    "startTime = stopWatch();\n",
    "% Explicit form:\n",
    "L = - 1i.*w0.*( N - Nt ) ...\n",
    "    + G1.*( s.*a   *at    - aDag*a./2 - atDag*at./2 ) ...\n",
    "    + P1.*( s.*aDag*atDag - a*aDag./2 - at*atDag./2 );\n",
    "% % Number-oriented form:\n",
    "%L = - 1i.*w0.*(N-Nt) ...\n",
    "%    - 0.5.*(G1+p*P1).*(N+Nt) ...\n",
    "%    + s.*(G1.*a*at+P1.*aDag*atDag) ...\n",
    "%    - P1.*id;\n",
    "stopWatch(startTime,'  [info] Lindbladian construction in ');"
   ]
  },
  {
   "cell_type": "markdown",
   "metadata": {},
   "source": [
    "<a name=\"H_9231BF9B\"></a>\n",
    "\n",
    "#### Exercise \\#1\n",
    "1.  The two ways of writing the Lindbladian above should give exactly the same result in the fermionic case. Check that this is indeed the case.\n",
    "2. In the bosonic case, instead, this may not be the case. Why? How does the difference impact the result? (Hint: take a look at the numerical commutator)\n",
    "<a name=\"H_7E3B46B3\"></a>\n",
    "\n",
    "### Steady\\-state density matrix\n",
    "\n",
    "The steady\\-state density matrix $\\rho_{\\textrm{ss}}$ satisfies\n",
    "\n",
    "\n",
    "$$0=\\partial_t \\rho_{{\\mathrm{s}\\mathrm{s}}} =\\mathcal{L}\\rho_{{\\mathrm{s}\\mathrm{s}}} ~~~~\\Longrightarrow ~~~~\\mathcal{L}|\\rho_{{\\mathrm{s}\\mathrm{s}}} \\rangle =0,$$\n",
    "\n",
    "i.e. it's the null\\-eigenvalue right eigenvector of the vectorized Lindbladian; the corresponding left eigenvector is the left vacuum $|I\\rangle$ .\n",
    "\n",
    "\n",
    "Let's find these two vectors via sparse diagonalization:\n"
   ]
  },
  {
   "cell_type": "code",
   "execution_count": 90,
   "metadata": {},
   "outputs": [
    {
     "name": "stderr",
     "output_type": "stream",
     "text": [
      "Warning: The first input matrix, shifted by sigma, is close to singular or badly scaled (RCOND =  6.275062e-17) and results may be inaccurate. Consider specifying a perturbed numeric sigma value to improve the condition of the matrix."
     ]
    },
    {
     "name": "stdout",
     "output_type": "stream",
     "text": [
      "  [info] Steady-state obtained in 00:00:00.075\n"
     ]
    }
   ],
   "source": [
    "startTime = stopWatch();\n",
    "% Diagonalize\n",
    "[pss,~] = eigs(L ,1,0);\n",
    "[I  ,~] = eigs(L',1,0);\n",
    "I = I';\n",
    "% Normalize\n",
    "prd = I*pss;\n",
    "I   =   I./sqrt(prd);\n",
    "pss = pss.*sqrt(prd)./prd;\n",
    "stopWatch(startTime,'  [info] Steady-state obtained in ');"
   ]
  },
  {
   "cell_type": "markdown",
   "metadata": {},
   "source": [
    "\n",
    "where we've also bi\\-normalized such that\n",
    "\n",
    "\n",
    "$${\\mathrm{T}\\mathrm{r}}\\big(\\rho_{{\\mathrm{s}\\mathrm{s}}} \\big)=1~~~~\\Longrightarrow ~~~~\\langle I|\\rho_{{\\mathrm{s}\\mathrm{s}}} \\rangle =1$$"
   ]
  },
  {
   "cell_type": "code",
   "execution_count": 91,
   "metadata": {},
   "outputs": [
    {
     "name": "stdout",
     "output_type": "stream",
     "text": [
      "  [info] <I|pₛₛ> = 1+1.7092e-33i\n"
     ]
    }
   ],
   "source": [
    "% Check for normalization\n",
    "disp(['  [info] <I|pₛₛ> = ',num2str(I*pss)]);"
   ]
  },
  {
   "cell_type": "code",
   "execution_count": 92,
   "metadata": {},
   "outputs": [
    {
     "data": {
      "text/html": [
       "<html><body><pre>ans = 9.7145e-17 - 2.2437e-17i</pre></body></html>"
      ],
      "text/plain": [
       "ans = 9.7145e-17 - 2.2437e-17i"
      ]
     },
     "execution_count": 92,
     "metadata": {},
     "output_type": "execute_result"
    }
   ],
   "source": [
    "eigs(L,1,0.1)"
   ]
  },
  {
   "cell_type": "markdown",
   "metadata": {},
   "source": [
    "<a name=\"H_42359288\"></a>\n",
    "\n",
    "#### Exercise \\#2\n",
    "1.  Check that, in the fermionic case, the numerical left vacuum is equal to the theoretical value, i.e. to \\[1, 0, 0, 1\\] up to an arbitrary constant, and that the smallest eigenvalue is exactly 0.\n",
    "2. Write down an explicit form of the 4×4 Lindbladian itself and verify that this holds analytically.\n",
    "3. In the bosonic case, instead, the may not the case. Why?\n",
    "<a name=\"H_BDBB2DED\"></a>\n",
    "\n",
    "### Steady\\-state expectation values\n",
    "\n",
    "Steady\\-state expectation values can now be calculated via\n",
    "\n",
    "\n",
    "$$\\langle \\mathcal{O}\\rangle ={\\mathrm{T}\\mathrm{r}}\\big(\\mathcal{O}\\rho_{{\\mathrm{s}\\mathrm{s}}} \\big)~~~~\\Longrightarrow ~~~~\\langle I|\\mathcal{O}|\\rho_{{\\mathrm{s}\\mathrm{s}}} \\rangle$$\n",
    "\n",
    "For example, let's calculate $\\langle N\\rangle$ and check that it's equal to our theoretical expectation:\n"
   ]
  },
  {
   "cell_type": "code",
   "execution_count": 93,
   "metadata": {},
   "outputs": [
    {
     "name": "stdout",
     "output_type": "stream",
     "text": [
      "  [info] <I|N|pₛₛ> = 5-2.436e-32i\n"
     ]
    }
   ],
   "source": [
    "% Steady-state occupation\n",
    "disp(['  [info] <I|N|pₛₛ> = ',num2str(I*N*pss)]);"
   ]
  },
  {
   "cell_type": "code",
   "execution_count": 94,
   "metadata": {},
   "outputs": [
    {
     "name": "stdout",
     "output_type": "stream",
     "text": [
      "  [info] <I|Nt|pₛₛ> = 5-2.436e-32i\n"
     ]
    }
   ],
   "source": [
    "disp(['  [info] <I|Nt|pₛₛ> = ',num2str(I*N*pss)]);"
   ]
  },
  {
   "cell_type": "markdown",
   "metadata": {},
   "source": [
    "<a name=\"H_FFA598B3\"></a>\n",
    "\n",
    "#### Exercise \\#3\n",
    "1.  Calculate the expectation value of the tilded number operator. Do you obtain the same value?\n",
    "2. Why do you think this is the case, and can you think of a situation in which the opposite happens?\n",
    "<a name=\"H_F8A812C8\"></a>\n",
    "\n",
    "### Full Lindbladian spectrum\n",
    "\n",
    "You can perform a dense diagonalization to visualize the full spectrum of the Lindbladian.\n",
    "\n",
    "\n",
    "**Careful!** In the bosonic case, this is only feasible for low cutoffs.\n"
   ]
  },
  {
   "cell_type": "code",
   "execution_count": 95,
   "metadata": {},
   "outputs": [
    {
     "name": "stderr",
     "output_type": "stream",
     "text": [
      "Error connecting to MATLAB. Check the status of MATLAB by clicking the \"Open MATLAB\" button. Retry after ensuring MATLAB is running successfully"
     ]
    }
   ],
   "source": [
    "startTime = stopWatch();\n",
    "eigVals = eig(full(L));\n",
    "stopWatch(startTime,'  [info] Full spectrum obtained in ');\n",
    "magicLaTeX;\n",
    "figure;\n",
    "plot(eigVals,'Marker','*','LineStyle','none');\n",
    "curXLim = get(gca,'XLim');\n",
    "set(gca,'XLim',[curXLim(1),max(curXLim(2),0)]);\n",
    "xlabel(' $\\mathrm{Re}\\mathcal{L}$ ');\n",
    "ylabel(' $\\mathrm{Im}\\mathcal{L}$ ');"
   ]
  },
  {
   "cell_type": "markdown",
   "metadata": {},
   "source": [
    "\n",
    "What happens to the spectrum if you lower/raise the cutoff in the bosonic case?\n",
    "\n",
    "<a name=\"H_521252EF\"></a>\n",
    "\n",
    "### Time evolution\n",
    "\n",
    "We can also use the vectorized form of the Lindblad equation to perform time evolution.\n",
    "\n",
    "\n",
    "**Note:** vectorization, however, is not a prerequisite to do time evolution.\n",
    "\n",
    "\n",
    "As a first step, we can evolve the density matrix in time:\n",
    "\n",
    "\n",
    "$$\\partial_t |\\rho (t)\\rangle =\\mathcal{L}|\\rho (t)\\rangle$$"
   ]
  },
  {
   "cell_type": "code",
   "execution_count": 96,
   "metadata": {},
   "outputs": [],
   "source": [
    "stateIdx     = (1+floor(Nc/5-1)*isBosonic)*Nc+(2+floor(Nc/5-1)*isBosonic);\n",
    "Geff         = (G1-p*P1);         % effective loss rate\n",
    "tSpan        = [0 5./Geff];       % up to 5 characteristic times\n",
    "p0           = zeros(Nc^2,1);\n",
    "p0(stateIdx) = 1;                 % density matrix in |1,1> or |10,10> pure state (with Nc = 50)\n",
    "p0           = p0./(I*p0);        % bi-normalize against left vacuum\n",
    "[tVec,pT]    = ode45(@(t,v) L*v, tSpan, p0);\n",
    "pT           = pT.';              % time steps as cols of pT"
   ]
  },
  {
   "cell_type": "markdown",
   "metadata": {},
   "source": [
    "\n",
    "Let's check that the evolution has preserved the trace of the density matrix:\n"
   ]
  },
  {
   "cell_type": "code",
   "execution_count": 13,
   "metadata": {},
   "outputs": [],
   "source": [
    "magicLaTeX;\n",
    "figure;\n",
    "plot(tVec.*Geff,real(I*pT));\n",
    "xlabel(' $t\\Gamma^{\\mathrm{eff}}$ ');\n",
    "ylabel(' $\\mathrm{Tr}\\big(\\rho(t)\\big)$ ');"
   ]
  },
  {
   "cell_type": "markdown",
   "metadata": {},
   "source": [
    "\n",
    "Then, we can calculate the time evolution of expectation values as:\n",
    "\n",
    "\n",
    "$$\\langle \\mathcal{O}(t)\\rangle =\\langle I|\\mathcal{O}|\\rho (t)\\rangle .$$\n",
    "\n",
    "As an example, we can calculate the time evolution of $\\langle N\\left(t\\right)\\rangle$ :\n"
   ]
  },
  {
   "cell_type": "code",
   "execution_count": 14,
   "metadata": {},
   "outputs": [],
   "source": [
    "magicLaTeX;\n",
    "figure;\n",
    "plot(tVec.*Geff,real(I*N*pT),'DisplayName','Numerics'); hold on;\n",
    "plot(tVec.*Geff,(real(I*N*p0)-Nss).*exp(-(G1-p*P1).*tVec)+Nss,'LineStyle','--','DisplayName','Theory');\n",
    "legend;\n",
    "xlabel(' $t\\Gamma^{\\mathrm{eff}}$ ');\n",
    "ylabel(' $\\langle N(t) \\rangle$ ');"
   ]
  },
  {
   "cell_type": "markdown",
   "metadata": {},
   "source": [
    "<a name=\"H_2315E99C\"></a>\n",
    "\n",
    "#### Exercise \\#4\n",
    "1.  Derive the analytical formula for the time evolution of the average number of particles.\n",
    "<a name=\"H_AAB4A4C6\"></a>\n",
    "\n",
    "## DIY\n",
    "\n",
    "In order to get yourself acquanted with the formalism, try to re\\-do this exercise for a Kerr (nonlinear) cavity, which has the following Hamiltonian:\n",
    "\n",
    "\n",
    "$$H=\\omega_0 a^{\\dagger} a+Ua^{\\dagger} a^{\\dagger} aa.$$\n",
    "\n",
    "Are you still able to obtain any theoretical result in this case?\n",
    "\n",
    "\n",
    "What if you also add two\\-particle losses? How would you write the dissipator in this case and how does it change the results?\n",
    "\n"
   ]
  },
  {
   "cell_type": "code",
   "execution_count": 25,
   "metadata": {},
   "outputs": [
    {
     "data": {
      "text/html": [
       "<html><body><pre>G2 = 0.0060</pre></body></html>"
      ],
      "text/plain": [
       "G2 = 0.0060"
      ]
     },
     "execution_count": 25,
     "metadata": {},
     "output_type": "execute_result"
    },
    {
     "data": {
      "text/html": [
       "<html><body><pre>P2 = 0.0050</pre></body></html>"
      ],
      "text/plain": [
       "P2 = 0.0050"
      ]
     },
     "execution_count": 25,
     "metadata": {},
     "output_type": "execute_result"
    }
   ],
   "source": [
    "G2=G1/100\n",
    "P2=P1/100\n",
    "\n",
    "L = - 1i.*w0.*( N - Nt + aDag*aDag*a*a - atDag*atDag*at*at) ...\n",
    "    + G1.*( s.*a   *at    - aDag*a./2 - atDag*at./2 ) ...\n",
    "    + P1.*( s.*aDag*atDag - a*aDag./2 - at*atDag./2 ) ...\n",
    "    + G2.*( s.*a*a*at*at - aDag*aDag*a*a./2 - atDag*atDag*at*at./2 );"
   ]
  },
  {
   "cell_type": "code",
   "execution_count": 15,
   "metadata": {},
   "outputs": [
    {
     "name": "stderr",
     "output_type": "stream",
     "text": [
      "Warning: The first input matrix, shifted by sigma, is close to singular or badly scaled (RCOND =  1.400439e-17) and results may be inaccurate. Consider specifying a perturbed numeric sigma value to improve the condition of the matrix."
     ]
    },
    {
     "name": "stdout",
     "output_type": "stream",
     "text": [
      "  [info] Steady-state obtained in 00:00:00.100\n"
     ]
    }
   ],
   "source": [
    "startTime = stopWatch();\n",
    "% Diagonalize\n",
    "[pss,~] = eigs(L ,1,0);\n",
    "[I  ,~] = eigs(L',1,0);\n",
    "I = I';\n",
    "% Normalize\n",
    "prd = I*pss;\n",
    "I   =   I./sqrt(prd);\n",
    "pss = pss.*sqrt(prd)./prd;\n",
    "stopWatch(startTime,'  [info] Steady-state obtained in ');"
   ]
  },
  {
   "cell_type": "code",
   "execution_count": 16,
   "metadata": {},
   "outputs": [
    {
     "data": {
      "text/html": [
       "<html><body><pre>ans = 3.0162e-17</pre></body></html>"
      ],
      "text/plain": [
       "ans = 3.0162e-17"
      ]
     },
     "execution_count": 16,
     "metadata": {},
     "output_type": "execute_result"
    }
   ],
   "source": [
    "eigs(L,1,0)"
   ]
  },
  {
   "cell_type": "code",
   "execution_count": 17,
   "metadata": {},
   "outputs": [
    {
     "name": "stdout",
     "output_type": "stream",
     "text": [
      "  [info] <I|N|pₛₛ> = 3.0654-1.5407e-33i\n"
     ]
    }
   ],
   "source": [
    "disp(['  [info] <I|N|pₛₛ> = ',num2str(I*N*pss)]);"
   ]
  },
  {
   "cell_type": "code",
   "execution_count": 18,
   "metadata": {},
   "outputs": [],
   "source": [
    "stateIdx     = (1+floor(Nc/5-1)*isBosonic)*Nc+(2+floor(Nc/5-1)*isBosonic);\n",
    "Geff         = (G1-p*P1);         % effective loss rate\n",
    "tSpan        = [0 5./Geff];       % up to 5 characteristic times\n",
    "p0           = zeros(Nc^2,1);\n",
    "p0(stateIdx) = 1;                 % density matrix in |1,1> or |10,10> pure state (with Nc = 50)\n",
    "p0           = p0./(I*p0);        % bi-normalize against left vacuum\n",
    "[tVec,pT]    = ode45(@(t,v) L*v, tSpan, p0);\n",
    "pT           = pT.';              % time steps as cols of pT"
   ]
  },
  {
   "cell_type": "code",
   "execution_count": 19,
   "metadata": {},
   "outputs": [
    {
     "data": {
      "image/png": "[encoded data removed]"
     },
     "execution_count": 19,
     "metadata": {},
     "output_type": "execute_result"
    }
   ],
   "source": [
    "magicLaTeX;\n",
    "figure;\n",
    "plot(tVec.*Geff,real(I*pT));\n",
    "xlabel(' $t\\Gamma^{\\mathrm{eff}}$ ');\n",
    "ylabel(' $\\mathrm{Tr}\\big(\\rho(t)\\big)$ ');"
   ]
  },
  {
   "cell_type": "code",
   "execution_count": 20,
   "metadata": {},
   "outputs": [
    {
     "data": {
      "image/png": "[encoded data removed]"
     },
     "execution_count": 20,
     "metadata": {},
     "output_type": "execute_result"
    }
   ],
   "source": [
    "magicLaTeX;\n",
    "figure;\n",
    "plot(tVec.*Geff,real(I*N*pT),'DisplayName','Numerics'); hold on;\n",
    "plot(tVec.*Geff,(real(I*N*p0)-Nss).*exp(-(G1-p*P1).*tVec)+Nss,'LineStyle','--','DisplayName','Theory');\n",
    "legend;\n",
    "xlabel(' $t\\Gamma^{\\mathrm{eff}}$ ');\n",
    "ylabel(' $\\langle N(t) \\rangle$ ');"
   ]
  },
  {
   "cell_type": "code",
   "execution_count": 40,
   "metadata": {},
   "outputs": [
    {
     "data": {
      "image/png": "[encoded data removed]"
     },
     "execution_count": 40,
     "metadata": {},
     "output_type": "execute_result"
    }
   ],
   "source": [
    "% Define the parameters\n",
    "\n",
    "% Define the differential equation as a function\n",
    "dndt = @(t, n) -G1*n + P1*n + P1 - 12*G2*n*(n-1);\n",
    "\n",
    "% Set the initial condition\n",
    "n0 = 10;\n",
    "\n",
    "% Define the time span for the solution\n",
    "tSpan = [0 20]; % Example time span from 0 to 10\n",
    "\n",
    "% Use ode45 to solve the differential equation\n",
    "[t, n] = ode45(dndt, tSpan, n0);\n",
    "\n",
    "% Plot the solution\n",
    "figure;\n",
    "plot(t, n, 'LineWidth', 2);\n",
    "xlabel('Time (t)');\n",
    "ylabel('n(t)');\n",
    "title('Solution to the differential equation dn/dt = -G1*n + P1*n + P1 - 12*G2*n*(n-1)');\n",
    "grid on;"
   ]
  },
  {
   "cell_type": "code",
   "execution_count": null,
   "metadata": {},
   "outputs": [],
   "source": []
  }
 ],
 "metadata": {
  "kernelspec": {
   "display_name": "MATLAB Kernel",
   "language": "matlab",
   "name": "jupyter_matlab_kernel"
  },
  "language_info": {
   "file_extension": ".m",
   "mimetype": "text/x-matlab",
   "name": "matlab"
  }
 },
 "nbformat": 4,
 "nbformat_minor": 4
}
